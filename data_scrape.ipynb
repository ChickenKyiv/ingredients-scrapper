{
 "cells": [
  {
   "cell_type": "code",
   "execution_count": 2,
   "metadata": {
    "collapsed": true
   },
   "outputs": [],
   "source": [
    "from bs4 import BeautifulSoup\n",
    "import requests\n",
    "import pandas as pd\n",
    "import pickle"
   ]
  },
  {
   "cell_type": "code",
   "execution_count": 3,
   "metadata": {
    "collapsed": true
   },
   "outputs": [],
   "source": [
    "# Getting list of urls \n",
    "with open(\"blog_links.p\", \"rb\") as file_object:\n",
    "    blog_links = pickle.load(file_object)"
   ]
  },
  {
   "cell_type": "code",
   "execution_count": 8,
   "metadata": {},
   "outputs": [],
   "source": [
    "all_ingre = {}\n",
    "rest_of_urls = []\n",
    "for url in blog_links:\n",
    "    # Reading Link\n",
    "    recipie_ingre = []\n",
    "    response = requests.get(url)\n",
    "    data = response.text\n",
    "    soup = BeautifulSoup(data , 'html.parser')\n",
    "    \n",
    "    # Link ---> Ingredients\n",
    "    title = soup.find(\"title\").text.split('–')[0]\n",
    "    div_tag = soup.find_all(\"div\", class_=\"tasty-recipes-ingredients\")\n",
    "    for line in div_tag:\n",
    "        for li_tag in line.find_all(\"li\"):\n",
    "            recipie_ingre.append(li_tag.text)\n",
    "    if recipie_ingre == []:\n",
    "            rest_of_urls.append(url)\n",
    "    else:\n",
    "        all_ingre[title] = recipie_ingre\n"
   ]
  },
  {
   "cell_type": "code",
   "execution_count": 14,
   "metadata": {
    "collapsed": true
   },
   "outputs": [],
   "source": [
    "import pickle\n",
    "# Saving url_list\n",
    "with open(\"all_ingre.p\", \"wb\") as file_object:\n",
    "    pickle.dump(all_ingre, file_object)"
   ]
  },
  {
   "cell_type": "code",
   "execution_count": 29,
   "metadata": {},
   "outputs": [],
   "source": [
    "with open(\"rest_of_urls.p\", \"wb\") as file_object:\n",
    "    pickle.dump(rest_of_urls, file_object)"
   ]
  },
  {
   "cell_type": "code",
   "execution_count": 22,
   "metadata": {},
   "outputs": [],
   "source": [
    "rest_of_url1 = []\n",
    "all_ingre1 = dict()\n",
    "other_links = []\n",
    "for url in rest_of_urls:\n",
    "    response = requests.get(url)\n",
    "    data = response.text\n",
    "    soup = BeautifulSoup(data, 'html.parser')\n",
    "    try:\n",
    "        for link in soup.find_all([\"a\", \"href\"],rel=\"noopener\", target='_blank', href=True):\n",
    "            recipie_ingre = []\n",
    "            response1 = requests.get(link['href'])\n",
    "            data1 = response1.text\n",
    "            soup1 = BeautifulSoup(data1, 'html.parser')\n",
    "            title = soup1.find(\"title\").text.split('–')[0]\n",
    "            div_tag = soup1.find_all(\"div\", class_=\"tasty-recipes-ingredients\")\n",
    "            for line in div_tag:\n",
    "                for li_tag in line.find_all(\"li\"):\n",
    "                    recipie_ingre.append(li_tag.text)\n",
    "        if recipie_ingre == []:\n",
    "            rest_of_urls1.append(url)\n",
    "        else:\n",
    "            all_ingre1[title] = recipie_ingre\n",
    "    except:\n",
    "        other_links.append(url)"
   ]
  }
 ],
 "metadata": {
  "kernelspec": {
   "display_name": "Python 3",
   "language": "python",
   "name": "python3"
  },
  "language_info": {
   "codemirror_mode": {
    "name": "ipython",
    "version": 3
   },
   "file_extension": ".py",
   "mimetype": "text/x-python",
   "name": "python",
   "nbconvert_exporter": "python",
   "pygments_lexer": "ipython3",
   "version": "3.6.3"
  }
 },
 "nbformat": 4,
 "nbformat_minor": 2
}
